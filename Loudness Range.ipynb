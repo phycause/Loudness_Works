{
 "cells": [
  {
   "cell_type": "code",
   "execution_count": 25,
   "metadata": {},
   "outputs": [
    {
     "name": "stdout",
     "output_type": "stream",
     "text": [
      "0.032400945532\n",
      "-27.1139478447\n"
     ]
    }
   ],
   "source": [
    "import scipy.io.wavfile\n",
    "import pyloudnorm.loudness\n",
    "import pyloudnorm.util\n",
    "import soundfile as sf\n",
    "import numpy as np\n",
    "\n",
    "# read file \n",
    "filename = \"Hikarie FX.wav\"\n",
    "data, rate = sf.read(filename)\n",
    "print(np.sqrt(np.mean(data[:,0]**2)))\n",
    "\n",
    "# convert int16 data to float32 data\n",
    "data = pyloudnorm.util.validate_input_data(data, rate)\n",
    "\n",
    "# measure and then print the loudness\n",
    "loudness = pyloudnorm.loudness.measure_gated_loudness(data, rate)\n",
    "print(loudness)"
   ]
  },
  {
   "cell_type": "code",
   "execution_count": 17,
   "metadata": {},
   "outputs": [
    {
     "data": {
      "text/plain": [
       "array([ 1,  4,  9, 16], dtype=int32)"
      ]
     },
     "execution_count": 17,
     "metadata": {},
     "output_type": "execute_result"
    }
   ],
   "source": [
    "a = np.array([1,2,3,4])\n",
    "a**2"
   ]
  },
  {
   "cell_type": "code",
   "execution_count": null,
   "metadata": {},
   "outputs": [],
   "source": []
  }
 ],
 "metadata": {
  "kernelspec": {
   "display_name": "Python 3",
   "language": "python",
   "name": "python3"
  },
  "language_info": {
   "codemirror_mode": {
    "name": "ipython",
    "version": 3
   },
   "file_extension": ".py",
   "mimetype": "text/x-python",
   "name": "python",
   "nbconvert_exporter": "python",
   "pygments_lexer": "ipython3",
   "version": "3.6.3"
  }
 },
 "nbformat": 4,
 "nbformat_minor": 2
}
